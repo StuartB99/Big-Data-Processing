{
 "cells": [
  {
   "cell_type": "markdown",
   "metadata": {},
   "source": [
    "# 1. Producing the data\n",
    "Send one record of Streaming_Pedestrian_December_counts_per_hour.csv (row-by-row) every 0.5 second to the Kafka stream.\n",
    "- Append the timestamp into the object to be sent.  \n",
    "All the data are in original String format, without changing to any datetime format."
   ]
  },
  {
   "cell_type": "code",
   "execution_count": 1,
   "metadata": {},
   "outputs": [
    {
     "name": "stdout",
     "output_type": "stream",
     "text": [
      "Publishing records..\n",
      "Message published successfully. Data: {'ID': '3435630', 'Date_Time': '12/01/2020 08:00:00 AM', 'Year': '2020', 'Month': 'December', 'Mdate': '1', 'Day': 'Tuesday', 'Time': '8', 'Sensor_ID': '39', 'Sensor_Name': 'Alfred Place', 'Hourly_Counts': '83', 'Timestamp': 1622017507}\n",
      "Message published successfully. Data: {'ID': '3435798', 'Date_Time': '12/01/2020 11:00:00 AM', 'Year': '2020', 'Month': 'December', 'Mdate': '1', 'Day': 'Tuesday', 'Time': '11', 'Sensor_ID': '12', 'Sensor_Name': 'New Quay', 'Hourly_Counts': '86', 'Timestamp': 1622017508}\n",
      "Message published successfully. Data: {'ID': '3435107', 'Date_Time': '12/01/2020 12:00:00 AM', 'Year': '2020', 'Month': 'December', 'Mdate': '1', 'Day': 'Tuesday', 'Time': '0', 'Sensor_ID': '4', 'Sensor_Name': 'Town Hall (West)', 'Hourly_Counts': '78', 'Timestamp': 1622017509}\n",
      "Message published successfully. Data: {'ID': '3435108', 'Date_Time': '12/01/2020 12:00:00 AM', 'Year': '2020', 'Month': 'December', 'Mdate': '1', 'Day': 'Tuesday', 'Time': '0', 'Sensor_ID': '17', 'Sensor_Name': 'Collins Place (South)', 'Hourly_Counts': '10', 'Timestamp': 1622017509}\n"
     ]
    },
    {
     "ename": "KeyboardInterrupt",
     "evalue": "",
     "output_type": "error",
     "traceback": [
      "\u001b[0;31m---------------------------------------------------------------------------\u001b[0m",
      "\u001b[0;31mKeyboardInterrupt\u001b[0m                         Traceback (most recent call last)",
      "\u001b[0;32m<ipython-input-1-55f74b5b9fba>\u001b[0m in \u001b[0;36m<module>\u001b[0;34m\u001b[0m\n\u001b[1;32m     59\u001b[0m         \u001b[0mpublish_message\u001b[0m\u001b[0;34m(\u001b[0m\u001b[0mproducer\u001b[0m\u001b[0;34m,\u001b[0m \u001b[0mtopic\u001b[0m\u001b[0;34m,\u001b[0m \u001b[0mdata\u001b[0m\u001b[0;34m)\u001b[0m\u001b[0;34m\u001b[0m\u001b[0;34m\u001b[0m\u001b[0m\n\u001b[1;32m     60\u001b[0m \u001b[0;34m\u001b[0m\u001b[0m\n\u001b[0;32m---> 61\u001b[0;31m         \u001b[0msleep\u001b[0m\u001b[0;34m(\u001b[0m\u001b[0;36m0.5\u001b[0m\u001b[0;34m)\u001b[0m     \u001b[0;31m# sleep for 0.5 seconds\u001b[0m\u001b[0;34m\u001b[0m\u001b[0;34m\u001b[0m\u001b[0m\n\u001b[0m",
      "\u001b[0;31mKeyboardInterrupt\u001b[0m: "
     ]
    }
   ],
   "source": [
    "# Code referenced and taken from Week 11 Labs\n",
    "# import statements\n",
    "from time import sleep\n",
    "from json import dumps\n",
    "from kafka import KafkaProducer\n",
    "import random\n",
    "import datetime as dt\n",
    "import csv\n",
    "\n",
    "# Opens the csv file and read it. Appends the entire content into a list that is returned\n",
    "def readCSVFile(fileName):\n",
    "    listFromReader=[]\n",
    "    with open(fileName, 'rt') as f:\n",
    "        reader = csv.DictReader(f)\n",
    "        for row in reader:\n",
    "            listFromReader.append(row)\n",
    "\n",
    "    return listFromReader\n",
    "\n",
    "# publish the data to the producer instance with the provided topic name\n",
    "def publish_message(producer_instance, topic_name, data):\n",
    "    try:\n",
    "        producer_instance.send(topic_name, data)\n",
    "        print('Message published successfully. Data: ' + str(data))\n",
    "    except Exception as ex:\n",
    "        print('Exception in publishing message.')\n",
    "        print(str(ex))\n",
    "\n",
    "# connects to the kafka producer and returns it\n",
    "def connect_kafka_producer():\n",
    "    _producer = None\n",
    "    try:\n",
    "        _producer = KafkaProducer(bootstrap_servers=['localhost:9092'],\n",
    "                                  value_serializer=lambda x: dumps(x).encode('ascii'),\n",
    "                                  api_version=(0, 10))\n",
    "    except Exception as ex:\n",
    "        print('Exception while connecting Kafka.')\n",
    "        print(str(ex))\n",
    "    finally:\n",
    "        return _producer\n",
    "    \n",
    "if __name__ == '__main__':\n",
    "   \n",
    "    topic = 'pedestrian_count'\n",
    "    list_ped_count = readCSVFile('Streaming_Pedestrian_December_counts_per_hour.csv')    \n",
    "    \n",
    "    print('Publishing records..')\n",
    "    producer = connect_kafka_producer()\n",
    "    \n",
    "    for i in range(len(list_ped_count)):    # loop through the list from the csv file to publish each row every 0.5 seconds\n",
    "        current_obj = list_ped_count[i]\n",
    "        \n",
    "        #define the current timestamp\n",
    "        timeStamp = {'Timestamp': int(dt.datetime.now().timestamp())}\n",
    "        \n",
    "        #append the timestamp into the object to be sent\n",
    "        data=dict(current_obj,**timeStamp)\n",
    "        \n",
    "        publish_message(producer, topic, data)\n",
    "        \n",
    "        sleep(0.5)     # sleep for 0.5 seconds"
   ]
  },
  {
   "cell_type": "code",
   "execution_count": null,
   "metadata": {},
   "outputs": [],
   "source": []
  }
 ],
 "metadata": {
  "kernelspec": {
   "display_name": "Python 3 (ipykernel)",
   "language": "python",
   "name": "python3"
  },
  "language_info": {
   "codemirror_mode": {
    "name": "ipython",
    "version": 3
   },
   "file_extension": ".py",
   "mimetype": "text/x-python",
   "name": "python",
   "nbconvert_exporter": "python",
   "pygments_lexer": "ipython3",
   "version": "3.8.8"
  }
 },
 "nbformat": 4,
 "nbformat_minor": 4
}
